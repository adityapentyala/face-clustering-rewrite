{
 "cells": [
  {
   "cell_type": "code",
   "execution_count": 1,
   "metadata": {},
   "outputs": [],
   "source": [
    "import os\n",
    "import sys\n",
    "sys.path.append(\"../\")\n",
    "from utils import data_utils\n",
    "from pipeline import Facenet\n",
    "import pickle\n",
    "from cluster_embeddings import *\n",
    "import shutil"
   ]
  },
  {
   "cell_type": "code",
   "execution_count": 2,
   "metadata": {},
   "outputs": [],
   "source": [
    "CWD = os.getcwd()"
   ]
  },
  {
   "cell_type": "code",
   "execution_count": 6,
   "metadata": {},
   "outputs": [
    {
     "name": "stdout",
     "output_type": "stream",
     "text": [
      "Moved 50 files!\n",
      "Moved 100 files!\n",
      "Moved 150 files!\n",
      "Moved 200 files!\n",
      "Moved 250 files!\n",
      "Moved 300 files!\n",
      "Moved 350 files!\n",
      "Moved 400 files!\n",
      "Moved 450 files!\n",
      "Moved 500 files!\n",
      "Moved 550 files!\n",
      "Moved 600 files!\n",
      "Moved 650 files!\n",
      "Moved 700 files!\n",
      "Moved 750 files!\n",
      "Moved 800 files!\n",
      "Moved 850 files!\n",
      "Moved 900 files!\n",
      "Moved 950 files!\n",
      "Moved 1000 files!\n",
      "Moved 1050 files!\n",
      "Moved 1100 files!\n",
      "Moved 1150 files!\n",
      "Moved 1200 files!\n",
      "Moved 1250 files!\n",
      "Moved 1300 files!\n",
      "Moved 1350 files!\n",
      "Moved 1400 files!\n",
      "Moved 1450 files!\n",
      "Moved 1500 files!\n",
      "Moved 1550 files!\n",
      "Moved 1600 files!\n",
      "Moved 1650 files!\n",
      "Moved 1700 files!\n",
      "Moved 1750 files!\n",
      "Moved 1800 files!\n",
      "Moved 1850 files!\n",
      "Moved 1900 files!\n",
      "Moved 1950 files!\n",
      "Moved 2000 files!\n",
      "Moved 2050 files!\n",
      "Moved 2100 files!\n",
      "Moved 2150 files!\n",
      "Moved 2200 files!\n",
      "Moved 2250 files!\n",
      "Moved 2300 files!\n",
      "Moved 2350 files!\n",
      "Moved 2400 files!\n",
      "Moved 2450 files!\n",
      "Moved 2500 files!\n",
      "Moved 2550 files!\n",
      "Moved 2600 files!\n",
      "Moved 2650 files!\n",
      "Moved 2700 files!\n",
      "Moved 2750 files!\n",
      "Moved 2800 files!\n",
      "Moved 2850 files!\n",
      "Moved 2900 files!\n",
      "Moved 2950 files!\n",
      "Moved 3000 files!\n",
      "Moved 3050 files!\n",
      "Moved 3100 files!\n",
      "Moved 3150 files!\n",
      "Moved 3200 files!\n",
      "Moved 3250 files!\n",
      "Moved 3300 files!\n",
      "Moved 3350 files!\n",
      "Moved 3400 files!\n",
      "Moved 3450 files!\n",
      "Moved 3500 files!\n",
      "Moved 3550 files!\n",
      "Moved 3600 files!\n",
      "Moved 3650 files!\n",
      "Moved 3700 files!\n",
      "Moved 3750 files!\n",
      "Moved 3800 files!\n",
      "Moved 3850 files!\n",
      "Moved 3900 files!\n",
      "Moved 3950 files!\n",
      "Moved 4000 files!\n",
      "Moved 4050 files!\n",
      "Moved 4100 files!\n",
      "Moved 4150 files!\n",
      "Moved 4200 files!\n",
      "Moved 4250 files!\n",
      "Moved 4300 files!\n",
      "Moved 4350 files!\n",
      "Moved 4400 files!\n",
      "Moved 4450 files!\n",
      "Moved 4500 files!\n",
      "Moved 4550 files!\n",
      "Moved 4600 files!\n",
      "Moved 4650 files!\n",
      "Moved 4700 files!\n",
      "Moved 4750 files!\n",
      "Moved 4800 files!\n",
      "Moved 4850 files!\n",
      "Moved 4900 files!\n",
      "Moved 4950 files!\n",
      "Moved 5000 files!\n",
      "Moved 5050 files!\n",
      "Moved 5100 files!\n",
      "Moved 5150 files!\n",
      "Moved 5200 files!\n",
      "Moved 5250 files!\n",
      "Moved 5300 files!\n",
      "Moved 5350 files!\n",
      "Moved 5400 files!\n",
      "Moved 5450 files!\n",
      "Moved 5500 files!\n",
      "Moved 5550 files!\n",
      "Moved 5600 files!\n",
      "Moved 5650 files!\n",
      "Moved 5700 files!\n",
      "Moved 5750 files!\n",
      "Moved 5800 files!\n",
      "Moved 5850 files!\n",
      "Moved 5900 files!\n",
      "Moved 5950 files!\n",
      "Moved 6000 files!\n",
      "Moved 6050 files!\n",
      "Moved 6100 files!\n",
      "Moved 6150 files!\n",
      "Moved 6200 files!\n",
      "Moved 6250 files!\n",
      "Moved 6300 files!\n",
      "Moved 6350 files!\n",
      "Moved 6400 files!\n",
      "Moved 6450 files!\n",
      "Moved 6500 files!\n",
      "Moved 6550 files!\n",
      "Moved 6600 files!\n",
      "Moved 6650 files!\n",
      "Moved 6700 files!\n",
      "Moved 6750 files!\n"
     ]
    }
   ],
   "source": [
    "data_utils.create_folder_for_clustering(source_dir = os.path.join(os.getcwd(),  \"../../data/Bollywood Actor Images\"), dest_dir= os.path.join(os.getcwd(),  \"../../data/bollywood_actor_images_superfolder\"))"
   ]
  },
  {
   "cell_type": "code",
   "execution_count": 3,
   "metadata": {},
   "outputs": [
    {
     "name": "stdout",
     "output_type": "stream",
     "text": [
      "6749\n",
      "100 images done!\n",
      "200 images done!\n",
      "300 images done!\n",
      "400 images done!\n",
      "500 images done!\n",
      "600 images done!\n",
      "700 images done!\n",
      "800 images done!\n",
      "900 images done!\n",
      "1000 images done!\n",
      "1100 images done!\n",
      "1200 images done!\n",
      "1300 images done!\n",
      "1400 images done!\n",
      "1500 images done!\n",
      "1600 images done!\n",
      "1700 images done!\n",
      "1800 images done!\n",
      "1900 images done!\n",
      "2000 images done!\n",
      "2100 images done!\n",
      "2200 images done!\n",
      "2300 images done!\n",
      "2400 images done!\n",
      "2500 images done!\n",
      "2600 images done!\n",
      "2700 images done!\n",
      "2800 images done!\n",
      "2900 images done!\n",
      "3000 images done!\n",
      "3100 images done!\n",
      "3200 images done!\n",
      "3300 images done!\n",
      "3400 images done!\n",
      "3500 images done!\n",
      "3600 images done!\n",
      "3700 images done!\n",
      "3800 images done!\n",
      "3900 images done!\n",
      "4000 images done!\n",
      "4100 images done!\n",
      "4200 images done!\n",
      "4300 images done!\n",
      "4400 images done!\n",
      "4500 images done!\n",
      "4600 images done!\n",
      "4700 images done!\n",
      "4800 images done!\n",
      "4900 images done!\n",
      "5000 images done!\n",
      "5100 images done!\n",
      "5200 images done!\n",
      "5300 images done!\n",
      "5400 images done!\n",
      "5500 images done!\n",
      "5600 images done!\n",
      "5700 images done!\n",
      "5800 images done!\n",
      "5900 images done!\n",
      "6000 images done!\n",
      "6100 images done!\n",
      "6200 images done!\n",
      "6300 images done!\n",
      "6400 images done!\n",
      "6500 images done!\n",
      "6600 images done!\n",
      "6700 images done!\n"
     ]
    }
   ],
   "source": [
    "embedding_pipeline = Facenet()\n",
    "embedding_dicts = embedding_pipeline.predict(os.path.join(CWD, r\"../../data/bollywood_actor_images_superfolder\"), verbose = 0)"
   ]
  },
  {
   "cell_type": "code",
   "execution_count": 4,
   "metadata": {},
   "outputs": [],
   "source": [
    "with open(\"embeddings.pkl\", mode = \"rb\") as f:\n",
    "    embedding_dicts = pickle.load(f)"
   ]
  },
  {
   "cell_type": "code",
   "execution_count": 4,
   "metadata": {},
   "outputs": [
    {
     "data": {
      "text/plain": [
       "6752"
      ]
     },
     "execution_count": 4,
     "metadata": {},
     "output_type": "execute_result"
    }
   ],
   "source": [
    "len(embedding_dicts)"
   ]
  },
  {
   "cell_type": "code",
   "execution_count": 18,
   "metadata": {},
   "outputs": [],
   "source": [
    "data, labels, unique_labels = create_clusters_DBSCAN(embedding_dicts, eps=6.8, min_samples=5)"
   ]
  },
  {
   "cell_type": "code",
   "execution_count": 19,
   "metadata": {},
   "outputs": [
    {
     "data": {
      "text/plain": [
       "array([ -1,   0,   1,   2,   3,   4,   5,   6,   7,   8,   9,  10,  11,\n",
       "        12,  13,  14,  15,  16,  17,  18,  19,  20,  21,  22,  23,  24,\n",
       "        25,  26,  27,  28,  29,  30,  31,  32,  33,  34,  35,  36,  37,\n",
       "        38,  39,  40,  41,  42,  43,  44,  45,  46,  47,  48,  49,  50,\n",
       "        51,  52,  53,  54,  55,  56,  57,  58,  59,  60,  61,  62,  63,\n",
       "        64,  65,  66,  67,  68,  69,  70,  71,  72,  73,  74,  75,  76,\n",
       "        77,  78,  79,  80,  81,  82,  83,  84,  85,  86,  87,  88,  89,\n",
       "        90,  91,  92,  93,  94,  95,  96,  97,  98,  99, 100, 101, 102,\n",
       "       103, 104, 105, 106, 107])"
      ]
     },
     "execution_count": 19,
     "metadata": {},
     "output_type": "execute_result"
    }
   ],
   "source": [
    "unique_labels"
   ]
  },
  {
   "cell_type": "code",
   "execution_count": 13,
   "metadata": {},
   "outputs": [
    {
     "data": {
      "text/plain": [
       "136"
      ]
     },
     "execution_count": 13,
     "metadata": {},
     "output_type": "execute_result"
    }
   ],
   "source": [
    "len(os.listdir(os.path.join(os.getcwd(), \"../../data/Bollywood Actor Images/Bollywood Actor Images\")))"
   ]
  },
  {
   "cell_type": "code",
   "execution_count": 22,
   "metadata": {},
   "outputs": [],
   "source": [
    "if os.path.exists(os.path.join(CWD, 'cluster_results')):\n",
    "    shutil.rmtree(os.path.join(CWD, 'cluster_results'))\n",
    "for image in data:\n",
    "    if (not os.path.exists(os.path.join(CWD, 'cluster_results', f\"cluster{image['label']}\"))):\n",
    "        os.makedirs(os.path.join(CWD, 'cluster_results', f\"cluster{image['label']}\"))\n",
    "    shutil.copy(image['filepath'], os.path.join(CWD, 'cluster_results', f\"cluster{image['label']}\"))\n",
    "\n",
    "    "
   ]
  },
  {
   "cell_type": "code",
   "execution_count": 17,
   "metadata": {},
   "outputs": [],
   "source": [
    "agg_data, agg_labels, agg_unique_labels = create_clusters_Agglomerative(embedding_dicts, distance_threshold=37.5)"
   ]
  },
  {
   "cell_type": "code",
   "execution_count": 18,
   "metadata": {},
   "outputs": [
    {
     "data": {
      "text/plain": [
       "array([  0,   1,   2,   3,   4,   5,   6,   7,   8,   9,  10,  11,  12,\n",
       "        13,  14,  15,  16,  17,  18,  19,  20,  21,  22,  23,  24,  25,\n",
       "        26,  27,  28,  29,  30,  31,  32,  33,  34,  35,  36,  37,  38,\n",
       "        39,  40,  41,  42,  43,  44,  45,  46,  47,  48,  49,  50,  51,\n",
       "        52,  53,  54,  55,  56,  57,  58,  59,  60,  61,  62,  63,  64,\n",
       "        65,  66,  67,  68,  69,  70,  71,  72,  73,  74,  75,  76,  77,\n",
       "        78,  79,  80,  81,  82,  83,  84,  85,  86,  87,  88,  89,  90,\n",
       "        91,  92,  93,  94,  95,  96,  97,  98,  99, 100, 101, 102, 103,\n",
       "       104, 105, 106, 107, 108, 109, 110, 111, 112, 113, 114, 115, 116,\n",
       "       117, 118, 119, 120, 121, 122, 123, 124, 125, 126, 127, 128, 129,\n",
       "       130, 131, 132])"
      ]
     },
     "execution_count": 18,
     "metadata": {},
     "output_type": "execute_result"
    }
   ],
   "source": [
    "agg_unique_labels"
   ]
  },
  {
   "cell_type": "code",
   "execution_count": 19,
   "metadata": {},
   "outputs": [],
   "source": [
    "if os.path.exists(os.path.join(CWD, 'agg_cluster_results')):\n",
    "    shutil.rmtree(os.path.join(CWD, 'agg_cluster_results'))\n",
    "for image in agg_data:\n",
    "    if (not os.path.exists(os.path.join(CWD, 'agg_cluster_results', f\"cluster{image['label']}\"))):\n",
    "        os.makedirs(os.path.join(CWD, 'agg_cluster_results', f\"cluster{image['label']}\"))\n",
    "    shutil.copy(image['filepath'], os.path.join(CWD, 'agg_cluster_results', f\"cluster{image['label']}\"))"
   ]
  },
  {
   "cell_type": "code",
   "execution_count": 20,
   "metadata": {},
   "outputs": [
    {
     "name": "stderr",
     "output_type": "stream",
     "text": [
      "/Users/adviksinha/miniconda3/envs/face-clustering-rewrite/lib/python3.10/site-packages/sklearn/cluster/_kmeans.py:1412: FutureWarning: The default value of `n_init` will change from 10 to 'auto' in 1.4. Set the value of `n_init` explicitly to suppress the warning\n",
      "  super()._check_params_vs_input(X, default_n_init=10)\n"
     ]
    }
   ],
   "source": [
    "k_data, k_labels, k_unique_labels = create_clusters_KMeans(embedding_dicts, n_clusters=135)"
   ]
  },
  {
   "cell_type": "code",
   "execution_count": 21,
   "metadata": {},
   "outputs": [],
   "source": [
    "if os.path.exists(os.path.join(CWD, 'k_cluster_results')):\n",
    "    shutil.rmtree(os.path.join(CWD, 'k_cluster_results'))\n",
    "for image in k_data:\n",
    "    if (not os.path.exists(os.path.join(CWD, 'k_cluster_results', f\"cluster{image['label']}\"))):\n",
    "        os.makedirs(os.path.join(CWD, 'k_cluster_results', f\"cluster{image['label']}\"))\n",
    "    shutil.copy(image['filepath'], os.path.join(CWD, 'k_cluster_results', f\"cluster{image['label']}\"))"
   ]
  }
 ],
 "metadata": {
  "kernelspec": {
   "display_name": "face-clustering-rewrite",
   "language": "python",
   "name": "python3"
  },
  "language_info": {
   "codemirror_mode": {
    "name": "ipython",
    "version": 3
   },
   "file_extension": ".py",
   "mimetype": "text/x-python",
   "name": "python",
   "nbconvert_exporter": "python",
   "pygments_lexer": "ipython3",
   "version": "3.10.13"
  }
 },
 "nbformat": 4,
 "nbformat_minor": 2
}
